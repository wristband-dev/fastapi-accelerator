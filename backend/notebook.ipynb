{
 "cells": [
  {
   "cell_type": "markdown",
   "id": "b472a288",
   "metadata": {},
   "source": [
    "# Database"
   ]
  },
  {
   "cell_type": "code",
   "execution_count": null,
   "id": "350e6d28",
   "metadata": {},
   "outputs": [
    {
     "data": {
      "text/plain": [
       "'123'"
      ]
     },
     "execution_count": 2,
     "metadata": {},
     "output_type": "execute_result"
    }
   ],
   "source": [
    "from database.firestore_database import add_document\n",
    "\n",
    "add_document(\"users\", {\n",
    "    \"id\": \"123\",\n",
    "    \"name\": \"John Doe\",\n",
    "    \"email\": \"john.doe@example.com\"\n",
    "})"
   ]
  },
  {
   "cell_type": "markdown",
   "id": "ffcef1f1",
   "metadata": {},
   "source": [
    "# Wristband Client"
   ]
  },
  {
   "cell_type": "code",
   "execution_count": null,
   "id": "a1a2d12f",
   "metadata": {},
   "outputs": [
    {
     "name": "stdout",
     "output_type": "stream",
     "text": [
      "Error: asyncio.run() cannot be called from a running event loop\n"
     ]
    },
    {
     "name": "stderr",
     "output_type": "stream",
     "text": [
      "/var/folders/dc/d9n011zs1p7gqycps7dsxc100000gn/T/ipykernel_39993/2809935838.py:17: RuntimeWarning: coroutine 'main' was never awaited\n",
      "  print(f\"Error: {e}\")\n",
      "RuntimeWarning: Enable tracemalloc to get the object allocation traceback\n"
     ]
    }
   ],
   "source": [
    "import asyncio\n",
    "import os\n",
    "from scripts.run_get_user_info import main\n",
    "\n",
    "# Set environment variables if not already set\n",
    "# os.environ['APPLICATION_VANITY_DOMAIN'] = 'your-domain.wristband.dev'\n",
    "# os.environ['USER_ID'] = 'your-user-id'\n",
    "# os.environ['ACCESS_TOKEN'] = 'your-access-token'\n",
    "\n",
    "# The main function is async, so we need to run it with asyncio.run()\n",
    "try:\n",
    "    response = asyncio.run(main())\n",
    "    print(response)\n",
    "except SystemExit as e:\n",
    "    print(f\"Script exited with code: {e.code}\")\n",
    "except Exception as e:\n",
    "    print(f\"Error: {e}\")"
   ]
  }
 ],
 "metadata": {
  "kernelspec": {
   "display_name": ".venv",
   "language": "python",
   "name": "python3"
  },
  "language_info": {
   "codemirror_mode": {
    "name": "ipython",
    "version": 3
   },
   "file_extension": ".py",
   "mimetype": "text/x-python",
   "name": "python",
   "nbconvert_exporter": "python",
   "pygments_lexer": "ipython3",
   "version": "3.13.5"
  }
 },
 "nbformat": 4,
 "nbformat_minor": 5
}
